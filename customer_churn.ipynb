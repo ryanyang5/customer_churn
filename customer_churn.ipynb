{
 "cells": [
  {
   "cell_type": "code",
   "execution_count": 1,
   "id": "5ebb9762",
   "metadata": {},
   "outputs": [],
   "source": [
    "import seaborn as sns\n",
    "sns.set()"
   ]
  },
  {
   "cell_type": "code",
   "execution_count": 2,
   "id": "d6f38f47",
   "metadata": {},
   "outputs": [
    {
     "data": {
      "text/html": [
       "<div>\n",
       "<style scoped>\n",
       "    .dataframe tbody tr th:only-of-type {\n",
       "        vertical-align: middle;\n",
       "    }\n",
       "\n",
       "    .dataframe tbody tr th {\n",
       "        vertical-align: top;\n",
       "    }\n",
       "\n",
       "    .dataframe thead th {\n",
       "        text-align: right;\n",
       "    }\n",
       "</style>\n",
       "<table border=\"1\" class=\"dataframe\">\n",
       "  <thead>\n",
       "    <tr style=\"text-align: right;\">\n",
       "      <th></th>\n",
       "      <th>gender</th>\n",
       "      <th>SeniorCitizen</th>\n",
       "      <th>Partner</th>\n",
       "      <th>Dependents</th>\n",
       "      <th>tenure</th>\n",
       "      <th>PhoneService</th>\n",
       "      <th>MultipleLines</th>\n",
       "      <th>InternetService</th>\n",
       "      <th>OnlineSecurity</th>\n",
       "      <th>OnlineBackup</th>\n",
       "      <th>DeviceProtection</th>\n",
       "      <th>TechSupport</th>\n",
       "      <th>StreamingTV</th>\n",
       "      <th>StreamingMovies</th>\n",
       "      <th>Contract</th>\n",
       "      <th>PaperlessBilling</th>\n",
       "      <th>PaymentMethod</th>\n",
       "      <th>MonthlyCharges</th>\n",
       "      <th>TotalCharges</th>\n",
       "      <th>Churn</th>\n",
       "    </tr>\n",
       "  </thead>\n",
       "  <tbody>\n",
       "    <tr>\n",
       "      <th>0</th>\n",
       "      <td>Female</td>\n",
       "      <td>no</td>\n",
       "      <td>Yes</td>\n",
       "      <td>No</td>\n",
       "      <td>71</td>\n",
       "      <td>Yes</td>\n",
       "      <td>Yes</td>\n",
       "      <td>Fiber optic</td>\n",
       "      <td>Yes</td>\n",
       "      <td>No</td>\n",
       "      <td>Yes</td>\n",
       "      <td>No</td>\n",
       "      <td>Yes</td>\n",
       "      <td>Yes</td>\n",
       "      <td>One year</td>\n",
       "      <td>Yes</td>\n",
       "      <td>Credit card (automatic)</td>\n",
       "      <td>104.10</td>\n",
       "      <td>7412.25</td>\n",
       "      <td>0.0</td>\n",
       "    </tr>\n",
       "    <tr>\n",
       "      <th>1</th>\n",
       "      <td>Female</td>\n",
       "      <td>no</td>\n",
       "      <td>Yes</td>\n",
       "      <td>Yes</td>\n",
       "      <td>43</td>\n",
       "      <td>Yes</td>\n",
       "      <td>Yes</td>\n",
       "      <td>Fiber optic</td>\n",
       "      <td>No</td>\n",
       "      <td>No</td>\n",
       "      <td>Yes</td>\n",
       "      <td>No</td>\n",
       "      <td>No</td>\n",
       "      <td>Yes</td>\n",
       "      <td>Month-to-month</td>\n",
       "      <td>Yes</td>\n",
       "      <td>Bank transfer (automatic)</td>\n",
       "      <td>92.55</td>\n",
       "      <td>4039.00</td>\n",
       "      <td>0.0</td>\n",
       "    </tr>\n",
       "    <tr>\n",
       "      <th>2</th>\n",
       "      <td>Female</td>\n",
       "      <td>yes</td>\n",
       "      <td>No</td>\n",
       "      <td>No</td>\n",
       "      <td>2</td>\n",
       "      <td>Yes</td>\n",
       "      <td>Yes</td>\n",
       "      <td>Fiber optic</td>\n",
       "      <td>No</td>\n",
       "      <td>No</td>\n",
       "      <td>No</td>\n",
       "      <td>No</td>\n",
       "      <td>Yes</td>\n",
       "      <td>Yes</td>\n",
       "      <td>Month-to-month</td>\n",
       "      <td>Yes</td>\n",
       "      <td>Electronic check</td>\n",
       "      <td>93.85</td>\n",
       "      <td>170.85</td>\n",
       "      <td>1.0</td>\n",
       "    </tr>\n",
       "    <tr>\n",
       "      <th>3</th>\n",
       "      <td>Male</td>\n",
       "      <td>yes</td>\n",
       "      <td>No</td>\n",
       "      <td>No</td>\n",
       "      <td>29</td>\n",
       "      <td>Yes</td>\n",
       "      <td>No</td>\n",
       "      <td>Fiber optic</td>\n",
       "      <td>No</td>\n",
       "      <td>Yes</td>\n",
       "      <td>Yes</td>\n",
       "      <td>No</td>\n",
       "      <td>Yes</td>\n",
       "      <td>Yes</td>\n",
       "      <td>Month-to-month</td>\n",
       "      <td>Yes</td>\n",
       "      <td>Bank transfer (automatic)</td>\n",
       "      <td>101.45</td>\n",
       "      <td>2948.60</td>\n",
       "      <td>0.0</td>\n",
       "    </tr>\n",
       "    <tr>\n",
       "      <th>4</th>\n",
       "      <td>Female</td>\n",
       "      <td>no</td>\n",
       "      <td>Yes</td>\n",
       "      <td>No</td>\n",
       "      <td>15</td>\n",
       "      <td>Yes</td>\n",
       "      <td>No</td>\n",
       "      <td>Fiber optic</td>\n",
       "      <td>No</td>\n",
       "      <td>No</td>\n",
       "      <td>Yes</td>\n",
       "      <td>No</td>\n",
       "      <td>Yes</td>\n",
       "      <td>No</td>\n",
       "      <td>Month-to-month</td>\n",
       "      <td>Yes</td>\n",
       "      <td>Electronic check</td>\n",
       "      <td>84.30</td>\n",
       "      <td>1308.40</td>\n",
       "      <td>1.0</td>\n",
       "    </tr>\n",
       "  </tbody>\n",
       "</table>\n",
       "</div>"
      ],
      "text/plain": [
       "   gender SeniorCitizen Partner Dependents  tenure PhoneService MultipleLines  \\\n",
       "0  Female            no     Yes         No      71          Yes           Yes   \n",
       "1  Female            no     Yes        Yes      43          Yes           Yes   \n",
       "2  Female           yes      No         No       2          Yes           Yes   \n",
       "3    Male           yes      No         No      29          Yes            No   \n",
       "4  Female            no     Yes         No      15          Yes            No   \n",
       "\n",
       "  InternetService OnlineSecurity OnlineBackup DeviceProtection TechSupport  \\\n",
       "0     Fiber optic            Yes           No              Yes          No   \n",
       "1     Fiber optic             No           No              Yes          No   \n",
       "2     Fiber optic             No           No               No          No   \n",
       "3     Fiber optic             No          Yes              Yes          No   \n",
       "4     Fiber optic             No           No              Yes          No   \n",
       "\n",
       "  StreamingTV StreamingMovies        Contract PaperlessBilling  \\\n",
       "0         Yes             Yes        One year              Yes   \n",
       "1          No             Yes  Month-to-month              Yes   \n",
       "2         Yes             Yes  Month-to-month              Yes   \n",
       "3         Yes             Yes  Month-to-month              Yes   \n",
       "4         Yes              No  Month-to-month              Yes   \n",
       "\n",
       "               PaymentMethod  MonthlyCharges  TotalCharges  Churn  \n",
       "0    Credit card (automatic)          104.10       7412.25    0.0  \n",
       "1  Bank transfer (automatic)           92.55       4039.00    0.0  \n",
       "2           Electronic check           93.85        170.85    1.0  \n",
       "3  Bank transfer (automatic)          101.45       2948.60    0.0  \n",
       "4           Electronic check           84.30       1308.40    1.0  "
      ]
     },
     "execution_count": 2,
     "metadata": {},
     "output_type": "execute_result"
    }
   ],
   "source": [
    "import pandas as pd\n",
    "\n",
    "df_telco = pd.read_csv('Telco-Customer-Churn.csv')\n",
    "\n",
    "df_telco.head()"
   ]
  },
  {
   "cell_type": "code",
   "execution_count": 3,
   "id": "a4ce8330",
   "metadata": {},
   "outputs": [
    {
     "data": {
      "text/plain": [
       "(5635, 20)"
      ]
     },
     "execution_count": 3,
     "metadata": {},
     "output_type": "execute_result"
    }
   ],
   "source": [
    "df_telco.shape"
   ]
  },
  {
   "cell_type": "code",
   "execution_count": 4,
   "id": "2bb8c7e8",
   "metadata": {},
   "outputs": [
    {
     "name": "stdout",
     "output_type": "stream",
     "text": [
      "<class 'pandas.core.frame.DataFrame'>\n",
      "RangeIndex: 5635 entries, 0 to 5634\n",
      "Data columns (total 20 columns):\n",
      " #   Column            Non-Null Count  Dtype  \n",
      "---  ------            --------------  -----  \n",
      " 0   gender            5635 non-null   object \n",
      " 1   SeniorCitizen     5635 non-null   object \n",
      " 2   Partner           5635 non-null   object \n",
      " 3   Dependents        5635 non-null   object \n",
      " 4   tenure            5635 non-null   int64  \n",
      " 5   PhoneService      5635 non-null   object \n",
      " 6   MultipleLines     5635 non-null   object \n",
      " 7   InternetService   5635 non-null   object \n",
      " 8   OnlineSecurity    5635 non-null   object \n",
      " 9   OnlineBackup      5635 non-null   object \n",
      " 10  DeviceProtection  5635 non-null   object \n",
      " 11  TechSupport       5635 non-null   object \n",
      " 12  StreamingTV       5635 non-null   object \n",
      " 13  StreamingMovies   5635 non-null   object \n",
      " 14  Contract          5635 non-null   object \n",
      " 15  PaperlessBilling  5635 non-null   object \n",
      " 16  PaymentMethod     5635 non-null   object \n",
      " 17  MonthlyCharges    5635 non-null   float64\n",
      " 18  TotalCharges      5629 non-null   float64\n",
      " 19  Churn             5635 non-null   float64\n",
      "dtypes: float64(3), int64(1), object(16)\n",
      "memory usage: 880.6+ KB\n"
     ]
    }
   ],
   "source": [
    "df_telco.info()"
   ]
  },
  {
   "cell_type": "markdown",
   "id": "e2054f28",
   "metadata": {},
   "source": [
    "### Data Cleaning"
   ]
  },
  {
   "cell_type": "code",
   "execution_count": 5,
   "id": "fe815363",
   "metadata": {},
   "outputs": [],
   "source": [
    "numerical_features = ['MonthlyCharges', 'tenure', 'TotalCharges']\n",
    "\n",
    "# first drop rows with missing values from df_telco\n",
    "df_telco1= df_telco.dropna(subset=['TotalCharges'])\n",
    "# then set X to have only numerical features and y to be the churn column\n",
    "X = df_telco1[numerical_features]\n",
    "y = df_telco1['Churn']"
   ]
  },
  {
   "cell_type": "code",
   "execution_count": 6,
   "id": "1711eba4",
   "metadata": {},
   "outputs": [
    {
     "data": {
      "text/plain": [
       "(5629, 3)"
      ]
     },
     "execution_count": 6,
     "metadata": {},
     "output_type": "execute_result"
    }
   ],
   "source": [
    "X.shape"
   ]
  },
  {
   "cell_type": "code",
   "execution_count": 7,
   "id": "8f90cfb4",
   "metadata": {},
   "outputs": [
    {
     "data": {
      "text/plain": [
       "(5629,)"
      ]
     },
     "execution_count": 7,
     "metadata": {},
     "output_type": "execute_result"
    }
   ],
   "source": [
    "y.shape"
   ]
  },
  {
   "cell_type": "markdown",
   "id": "82d76906",
   "metadata": {},
   "source": [
    "### Logistic Model Pipeline (Numerical features only)"
   ]
  },
  {
   "cell_type": "markdown",
   "id": "8e080e21",
   "metadata": {},
   "source": [
    "Use the numerical columns to predict whether a customer churns or not"
   ]
  },
  {
   "cell_type": "code",
   "execution_count": 8,
   "id": "ad633de6",
   "metadata": {},
   "outputs": [],
   "source": [
    "from sklearn.linear_model import LogisticRegression\n",
    "from sklearn.pipeline import Pipeline\n",
    "from sklearn.preprocessing import StandardScaler\n",
    "\n",
    "lr_pipe = Pipeline([('scaler', StandardScaler()),\n",
    "                    ('lr', LogisticRegression())])\n",
    "lr_numeric = lr_pipe.fit(X, y)"
   ]
  },
  {
   "cell_type": "code",
   "execution_count": 9,
   "id": "641468d1",
   "metadata": {},
   "outputs": [
    {
     "data": {
      "text/plain": [
       "<function sklearn.pipeline.Pipeline.predict(self, X, **predict_params)>"
      ]
     },
     "execution_count": 9,
     "metadata": {},
     "output_type": "execute_result"
    }
   ],
   "source": [
    "lr_numeric.predict"
   ]
  },
  {
   "cell_type": "markdown",
   "id": "ebd85519",
   "metadata": {},
   "source": [
    "Show coefficients"
   ]
  },
  {
   "cell_type": "code",
   "execution_count": 10,
   "id": "07187a3f",
   "metadata": {},
   "outputs": [],
   "source": [
    "coefs = lr_pipe.named_steps['lr'].coef_"
   ]
  },
  {
   "cell_type": "code",
   "execution_count": 11,
   "id": "a005b155",
   "metadata": {},
   "outputs": [
    {
     "data": {
      "text/plain": [
       "array([[ 0.92209216, -1.59295954,  0.28720095]])"
      ]
     },
     "execution_count": 11,
     "metadata": {},
     "output_type": "execute_result"
    }
   ],
   "source": [
    "coefs"
   ]
  },
  {
   "cell_type": "markdown",
   "id": "724b333c",
   "metadata": {},
   "source": [
    "### Logistic Model Pipeline (Categorical features only)"
   ]
  },
  {
   "cell_type": "code",
   "execution_count": 12,
   "id": "8b247ced",
   "metadata": {},
   "outputs": [],
   "source": [
    "columns_to_drop = ['MonthlyCharges', 'tenure', 'TotalCharges']\n",
    "\n",
    "# drop numeric fatures and drop rows with missing values from df_telco\n",
    "df_telco2 = df_telco.drop(columns=columns_to_drop)\n",
    "df_telco2 = df_telco2.dropna()\n",
    "# set X to have only categorical features and y to be the churn column\n",
    "X = df_telco2.drop(columns=['Churn'])\n",
    "y = df_telco2['Churn']"
   ]
  },
  {
   "cell_type": "code",
   "execution_count": 13,
   "id": "a65abee9",
   "metadata": {},
   "outputs": [
    {
     "data": {
      "text/plain": [
       "(5635, 16)"
      ]
     },
     "execution_count": 13,
     "metadata": {},
     "output_type": "execute_result"
    }
   ],
   "source": [
    "X.shape"
   ]
  },
  {
   "cell_type": "code",
   "execution_count": 14,
   "id": "44029119",
   "metadata": {},
   "outputs": [
    {
     "data": {
      "text/plain": [
       "(5635,)"
      ]
     },
     "execution_count": 14,
     "metadata": {},
     "output_type": "execute_result"
    }
   ],
   "source": [
    "y.shape"
   ]
  },
  {
   "cell_type": "markdown",
   "id": "68cd6dee",
   "metadata": {},
   "source": [
    "### OneHotEncoder to transform categorical features"
   ]
  },
  {
   "cell_type": "code",
   "execution_count": 15,
   "id": "006ffdb3",
   "metadata": {},
   "outputs": [],
   "source": [
    "from sklearn.preprocessing import OneHotEncoder\n",
    "\n",
    "lr_pipe1 = Pipeline([('ohe', OneHotEncoder()),\n",
    "                    ('lr', LogisticRegression())])\n",
    "lr_categorical = lr_pipe1.fit(X, y)"
   ]
  },
  {
   "cell_type": "code",
   "execution_count": 16,
   "id": "c71c9fc8",
   "metadata": {},
   "outputs": [
    {
     "data": {
      "text/plain": [
       "<function sklearn.pipeline.Pipeline.predict(self, X, **predict_params)>"
      ]
     },
     "execution_count": 16,
     "metadata": {},
     "output_type": "execute_result"
    }
   ],
   "source": [
    "lr_categorical.predict"
   ]
  },
  {
   "cell_type": "markdown",
   "id": "04e611ce",
   "metadata": {},
   "source": [
    "### Logistic Model Pipeline (ALL features)"
   ]
  },
  {
   "cell_type": "code",
   "execution_count": 17,
   "id": "3c9afdb4",
   "metadata": {},
   "outputs": [],
   "source": [
    "# first drop rows with missing values from df_telco\n",
    "df_telco3 = df_telco.dropna()\n",
    "\n",
    "# then set X to have all columns except for churn and set y to be the churn column\n",
    "X = df_telco3.drop(columns=['Churn'])\n",
    "y = df_telco3['Churn']"
   ]
  },
  {
   "cell_type": "code",
   "execution_count": 18,
   "id": "f7717905",
   "metadata": {},
   "outputs": [
    {
     "data": {
      "text/plain": [
       "['gender',\n",
       " 'SeniorCitizen',\n",
       " 'Partner',\n",
       " 'Dependents',\n",
       " 'tenure',\n",
       " 'PhoneService',\n",
       " 'MultipleLines',\n",
       " 'InternetService',\n",
       " 'OnlineSecurity',\n",
       " 'OnlineBackup',\n",
       " 'DeviceProtection',\n",
       " 'TechSupport',\n",
       " 'StreamingTV',\n",
       " 'StreamingMovies',\n",
       " 'Contract',\n",
       " 'PaperlessBilling',\n",
       " 'PaymentMethod',\n",
       " 'MonthlyCharges',\n",
       " 'TotalCharges',\n",
       " 'Churn']"
      ]
     },
     "execution_count": 18,
     "metadata": {},
     "output_type": "execute_result"
    }
   ],
   "source": [
    "list(df_telco3.columns)"
   ]
  },
  {
   "cell_type": "markdown",
   "id": "5821d5d3",
   "metadata": {},
   "source": [
    "Only encode categorical columns. Use passthrough to skip all numerical columns. "
   ]
  },
  {
   "cell_type": "code",
   "execution_count": 19,
   "id": "55c4ebe4",
   "metadata": {},
   "outputs": [],
   "source": [
    "from sklearn.compose import ColumnTransformer\n",
    "\n",
    "transformer_name = 'ohe_on_all_categorical_features'\n",
    "transformer = OneHotEncoder(sparse=False)\n",
    "columns_to_encode = ['gender',\n",
    " 'SeniorCitizen',\n",
    " 'Partner',\n",
    " 'Dependents',\n",
    " 'PhoneService',\n",
    " 'MultipleLines',\n",
    " 'InternetService',\n",
    " 'OnlineSecurity',\n",
    " 'OnlineBackup',\n",
    " 'DeviceProtection',\n",
    " 'TechSupport',\n",
    " 'StreamingTV',\n",
    " 'StreamingMovies',\n",
    " 'Contract',\n",
    " 'PaperlessBilling',\n",
    " 'PaymentMethod']\n",
    "\n",
    "ohe_final = ColumnTransformer([\n",
    "    (transformer_name, transformer, columns_to_encode)], \n",
    "    remainder='passthrough')"
   ]
  },
  {
   "cell_type": "code",
   "execution_count": 21,
   "id": "f1be1c03",
   "metadata": {},
   "outputs": [],
   "source": [
    "X_transformed = ohe_final.fit_transform(X)"
   ]
  },
  {
   "cell_type": "code",
   "execution_count": 22,
   "id": "ccba0085",
   "metadata": {},
   "outputs": [
    {
     "data": {
      "text/plain": [
       "(5629, 46)"
      ]
     },
     "execution_count": 22,
     "metadata": {},
     "output_type": "execute_result"
    }
   ],
   "source": [
    "X_transformed.shape"
   ]
  },
  {
   "cell_type": "code",
   "execution_count": 23,
   "id": "168ff808",
   "metadata": {},
   "outputs": [],
   "source": [
    "lr_pipe2 = Pipeline([('ohe', ohe_final),\n",
    "                    ('lr', LogisticRegression())])"
   ]
  },
  {
   "cell_type": "code",
   "execution_count": 28,
   "id": "baa08c82",
   "metadata": {},
   "outputs": [],
   "source": [
    "lr_final = lr_pipe2.fit(X, y)"
   ]
  },
  {
   "cell_type": "code",
   "execution_count": 29,
   "id": "a73a7c4e",
   "metadata": {},
   "outputs": [
    {
     "data": {
      "text/plain": [
       "<function sklearn.pipeline.Pipeline.predict(self, X, **predict_params)>"
      ]
     },
     "execution_count": 29,
     "metadata": {},
     "output_type": "execute_result"
    }
   ],
   "source": [
    "lr_final.predict"
   ]
  },
  {
   "cell_type": "code",
   "execution_count": null,
   "id": "54b87f38",
   "metadata": {},
   "outputs": [],
   "source": []
  }
 ],
 "metadata": {
  "kernelspec": {
   "display_name": "Python 3",
   "language": "python",
   "name": "python3"
  },
  "language_info": {
   "codemirror_mode": {
    "name": "ipython",
    "version": 3
   },
   "file_extension": ".py",
   "mimetype": "text/x-python",
   "name": "python",
   "nbconvert_exporter": "python",
   "pygments_lexer": "ipython3",
   "version": "3.8.8"
  }
 },
 "nbformat": 4,
 "nbformat_minor": 5
}
